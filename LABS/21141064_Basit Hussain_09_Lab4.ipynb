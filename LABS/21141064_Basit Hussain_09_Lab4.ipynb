{
 "cells": [
  {
   "cell_type": "markdown",
   "metadata": {
    "id": "z2cv5hUNFiYX"
   },
   "source": [
    "# Gauss-Jordan Elimination\n",
    "Gauss-Jordan Elimination is an algorithm that can be used to solve systems of linear equations and to find the inverse of any invertible matrix.\n",
    "\n",
    "# Reduced-row echelon form\n",
    "The purpose of Gauss-Jordan Elimination is to use the three elementary row operations to convert a matrix into reduced-row echelon form. A matrix is in reduced-row echelon form, also known as row canonical form, if the following conditions are satisfied:\n",
    "\n",
    "1. All rows with only zero entries are at the bottom of the matrix\n",
    "2. The \f",
    "first nonzero entry in a row, called the leading entry or the pivot, of each nonzero row is to the right of the leading entry of the row above it.\n",
    "3. The leading entry, also known as the pivot, in any nonzero row is 1.\n",
    "4.All other entries in the column containing a leading 1 are zeroes.\n",
    "\n",
    "Solve the following system by the Gauss-Jordan method.\n",
    "\n",
    "$$2x+y+2z=10$$\n",
    "\n",
    "$$x+2y+z=8$$\n",
    "\n",
    "$$3x+y−z=2$$\n",
    "\n",
    "So, the augmented matrix would be -\n",
    "\n",
    "\\begin{bmatrix}\n",
    "  2 & 1 & 2 & 10\\\\\n",
    "  1 & 2 & 1 & 8\\\\\n",
    "  3 & 1 & -1 & 2\\\\\n",
    "\\end{bmatrix}\n",
    "\n",
    "$$=\n",
    "\\begin{bmatrix}\n",
    "  2 & 1 & 2 & 10\\\\\n",
    "  0 & 1.5 & 0 & 3\\\\\n",
    "  3 & 1 & -1 & 2\\\\\n",
    "\\end{bmatrix}$$\n",
    "\n",
    "$$=\n",
    "\\begin{bmatrix}\n",
    "  2 & 1 & 2 & 10\\\\\n",
    "  0 & 1.5 & 0 & 3\\\\\n",
    "  0 & -0.5 & -4 & -13\\\\\n",
    "\\end{bmatrix}$$\n",
    "\n",
    "$$=\n",
    "\\begin{bmatrix}\n",
    "  2 & 0 & 2 & 8\\\\\n",
    "  0 & 1.5 & 0 & 3\\\\\n",
    "  0 & -0.5 & -4 & -13\\\\\n",
    "\\end{bmatrix}$$\n",
    "\n",
    "$$=\n",
    "\\begin{bmatrix}\n",
    "  2 & 0 & 2 & 8\\\\\n",
    "  0 & 1.5 & 0 & 3\\\\\n",
    "  0 & 0 & -4 & -12\\\\\n",
    "\\end{bmatrix}$$\n",
    "\n",
    "$$=\\begin{bmatrix}\n",
    "  2 & 0 & 0 & 2\\\\\n",
    "  0 & 1.5 & 0 & 3\\\\\n",
    "  0 & 0 & -4 & -12\\\\\n",
    "\\end{bmatrix}$$\n",
    "So,\n",
    "$$ x = \\frac{2}{2}\\ = 1\\hspace{.25cm} ,\\hspace{.25cm} y = \\frac{3}{1.5}\\ = 2 \\hspace{.25cm}, \\hspace{.25cm}z = \\frac{-12}{-4}\\ = 3$$"
   ]
  },
  {
   "cell_type": "code",
   "execution_count": 4,
   "metadata": {
    "colab": {
     "base_uri": "https://localhost:8080/"
    },
    "id": "jIN37sv3wnQD",
    "outputId": "005df9a8-f314-49f8-8bdd-2e1dca2e5183"
   },
   "outputs": [
    {
     "name": "stdout",
     "output_type": "stream",
     "text": [
      "[1. 2. 3.]\n",
      "X1 = 1.0,   X2 = 2.0,   X3 = 3.0,   "
     ]
    }
   ],
   "source": [
    "from numpy import matrix, linalg\n",
    "import numpy as np\n",
    "\n",
    "#declare a matrix\n",
    "a = np.array([[2., 1., 2., 10.],\n",
    "              [1., 2., 1., 8.],\n",
    "              [3., 1., -1., 2.]])\n",
    "n = len(a)\n",
    "\n",
    "x = np.zeros(n)\n",
    "\n",
    "for i in range(n):\n",
    "    if a[i][i] == 0:\n",
    "        break\n",
    "        \n",
    "    #calculate ratio in a loop\n",
    "    for j in range(n):\n",
    "      if i != j:\n",
    "        ratio = a[j][i] / a[i][i]\n",
    "    #update the value of matrix according to the ratio\n",
    "        for k in range(n+1):\n",
    "          a[j][k] = a[j][k] - ratio * a[i][k]\n",
    "\n",
    "for i in range(n):\n",
    "  x[i] = a[i][n] / a[i][i] #obtain solution (division operation)\n",
    "\n",
    "# Output\n",
    "print(x)\n",
    "for i in range(len(x)):\n",
    "    print(\"X\"+str(i+1)+\" = \"+str(x[i]), end=\",   \")"
   ]
  },
  {
   "cell_type": "markdown",
   "metadata": {
    "id": "rM6d6j1fPYtU"
   },
   "source": [
    "**Solve the following problem using Gauss Jordan Elimination method**\n",
    "\n",
    "Star Cineplex charges 300 taka for regular tickets and 350 taka for premium tickets. If the production sold 140 tickets for its opening night and made 45,050 taka in ticket sales, how many of each type of tickets were sold?"
   ]
  },
  {
   "cell_type": "code",
   "execution_count": 35,
   "metadata": {
    "colab": {
     "base_uri": "https://localhost:8080/"
    },
    "id": "6yojE8Y9Rtbr",
    "outputId": "c189548c-28c3-4ea3-d49a-c22cf1ad8a60"
   },
   "outputs": [
    {
     "name": "stdout",
     "output_type": "stream",
     "text": [
      "[79. 61.]\n",
      "The number of  regular tickets sold are:  79.0\n",
      "The number of  premium tickets sold are:  61.0\n"
     ]
    }
   ],
   "source": [
    "#write your code here  x+y=140. 300x+350y=45050. \n",
    "\n",
    "a = np.array([[1., 1., 140.],\n",
    "              [300., 350., 45050.]])\n",
    "n = len(a)\n",
    "x = np.zeros(n)\n",
    "\n",
    "for i in range(n):\n",
    "    if a[i][i] == 0:\n",
    "        break\n",
    "        \n",
    "    #calculate ratio in a loop\n",
    "    for j in range(n):\n",
    "      if i != j:\n",
    "        ratio = a[j][i] / a[i][i]\n",
    "    #update the value of matrix according to the ratio\n",
    "        for k in range(n+1):\n",
    "          a[j][k] = a[j][k] - ratio * a[i][k]\n",
    "\n",
    "for i in range(n):\n",
    "  x[i] = a[i][n] / a[i][i] #obtain solution (division operation)\n",
    "\n",
    "# Output\n",
    "print(x)\n",
    "print(\"The number of  regular tickets sold are: \", x[0])\n",
    "print(\"The number of  premium tickets sold are: \", x[1])"
   ]
  },
  {
   "cell_type": "code",
   "execution_count": null,
   "metadata": {},
   "outputs": [],
   "source": []
  }
 ],
 "metadata": {
  "colab": {
   "name": "Lab_4_Gauss_Jordan_Elimination.ipynb",
   "provenance": []
  },
  "kernelspec": {
   "display_name": "Python 3 (ipykernel)",
   "language": "python",
   "name": "python3"
  },
  "language_info": {
   "codemirror_mode": {
    "name": "ipython",
    "version": 3
   },
   "file_extension": ".py",
   "mimetype": "text/x-python",
   "name": "python",
   "nbconvert_exporter": "python",
   "pygments_lexer": "ipython3",
   "version": "3.9.7"
  }
 },
 "nbformat": 4,
 "nbformat_minor": 1
}
